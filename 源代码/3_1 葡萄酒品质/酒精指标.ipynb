{
 "cells": [
  {
   "cell_type": "code",
   "execution_count": 1,
   "metadata": {},
   "outputs": [
    {
     "data": {
      "text/plain": [
       "<Figure size 2000x1200 with 0 Axes>"
      ]
     },
     "metadata": {},
     "output_type": "display_data"
    }
   ],
   "source": [
    "import numpy as np\n",
    "import pandas as pd\n",
    "import matplotlib.pyplot as plt\n",
    "import seaborn as sns\n",
    "from matplotlib import font_manager\n",
    "\n",
    "dfr = pd.read_csv(r'winequality-red.csv', sep=';')\n",
    "dfw = pd.read_csv(r'winequality-white.csv', sep=';')\n",
    "\n",
    "# 颜色\n",
    "color = sns.color_palette()\n",
    "# 数据print精度\n",
    "pd.set_option('precision', 3)\n",
    "# 显示完整的列\n",
    "pd.set_option('display.max_columns', None)\n",
    "# 显示完整的行\n",
    "pd.set_option('display.max_rows', None)\n",
    "# 设置图片大小\n",
    "plt.figure(figsize=(10, 6), dpi=200)\n",
    "# 设置字体\n",
    "my_font = font_manager.FontProperties(fname=\"苹方字体.ttf\")"
   ]
  },
  {
   "cell_type": "code",
   "execution_count": 2,
   "metadata": {},
   "outputs": [],
   "source": [
    "# 增加总酸\n",
    "dfr['total acidity'] = dfr['fixed acidity'] + dfr['volatile acidity']\n",
    "dfw['total acidity'] = dfw['fixed acidity'] + dfw['volatile acidity']\n",
    "# 移动dfr总酸到列首\n",
    "r = dfr.columns.tolist()\n",
    "r.insert(0, r.pop())\n",
    "dfr = dfr.reindex(columns=r)\n",
    "# 移动dfw总酸到列首\n",
    "r = dfw.columns.tolist()\n",
    "r.insert(0, r.pop())\n",
    "dfw = dfw.reindex(columns=r)"
   ]
  },
  {
   "cell_type": "code",
   "execution_count": 3,
   "metadata": {},
   "outputs": [
    {
     "data": {
      "image/png": "[encoded data removed]",
      "text/plain": [
       "<Figure size 432x288 with 2 Axes>"
      ]
     },
     "metadata": {
      "needs_background": "light"
     },
     "output_type": "display_data"
    }
   ],
   "source": [
    "# 酒精浓度对评分影响\n",
    "plt.suptitle('酒精浓度对评分的影响', y=1.0, fontsize=16, fontproperties=my_font)  # 总标题\n",
    "\"\"\"红\"\"\"\n",
    "plt.subplot(1, 2, 1)\n",
    "sns.boxplot(x=dfr['quality'], y=dfr['alcohol'])\n",
    "plt.xlabel('红葡萄酒评分', fontsize=12, fontproperties=my_font)\n",
    "plt.ylabel('酒精浓度', fontsize=12, fontproperties=my_font)\n",
    "\"\"\"白\"\"\"\n",
    "plt.subplot(1, 2, 2)\n",
    "sns.boxplot(x=dfw['quality'], y=dfw['alcohol'])\n",
    "plt.xlabel('白葡萄酒评分', fontsize=12, fontproperties=my_font)\n",
    "plt.ylabel('酒精浓度', fontsize=12, fontproperties=my_font)\n",
    "plt.show()"
   ]
  },
  {
   "cell_type": "code",
   "execution_count": 4,
   "metadata": {},
   "outputs": [
    {
     "data": {
      "text/plain": [
       "0"
      ]
     },
     "execution_count": 4,
     "metadata": {},
     "output_type": "execute_result"
    }
   ],
   "source": [
    "# 对于国际标准按国标标准，葡萄酒酒精浓度应不低于7.0，此处按这个标椎做一下检查，如果为0说明结果正常\n",
    "(dfr[dfr['alcohol'] < 7]).alcohol.count()\n",
    "(dfw[dfw['alcohol'] < 7]).alcohol.count()"
   ]
  },
  {
   "cell_type": "code",
   "execution_count": null,
   "metadata": {},
   "outputs": [],
   "source": []
  }
 ],
 "metadata": {
  "kernelspec": {
   "display_name": "Python 3",
   "language": "python",
   "name": "python3"
  },
  "language_info": {
   "codemirror_mode": {
    "name": "ipython",
    "version": 3
   },
   "file_extension": ".py",
   "mimetype": "text/x-python",
   "name": "python",
   "nbconvert_exporter": "python",
   "pygments_lexer": "ipython3",
   "version": "3.7.1"
  }
 },
 "nbformat": 4,
 "nbformat_minor": 4
}
