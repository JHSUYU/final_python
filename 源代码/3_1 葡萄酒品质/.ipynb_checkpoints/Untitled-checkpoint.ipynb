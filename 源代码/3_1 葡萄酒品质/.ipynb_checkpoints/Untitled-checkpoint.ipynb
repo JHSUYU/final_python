{
 "cells": [
  {
   "cell_type": "code",
   "execution_count": 1,
   "metadata": {},
   "outputs": [],
   "source": [
    "import numpy as np\n",
    "import pandas as pd\n",
    "import matplotlib.pyplot as plt\n",
    "import seaborn as sns\n",
    "from matplotlib import font_manager\n",
    "\n",
    "dfr = pd.read_csv(r'winequality-red.csv', sep=';')\n",
    "dfw = pd.read_csv(r'winequality-white.csv', sep=';')"
   ]
  },
  {
   "cell_type": "code",
   "execution_count": 2,
   "metadata": {},
   "outputs": [
    {
     "data": {
      "text/plain": [
       "<Figure size 2000x1200 with 0 Axes>"
      ]
     },
     "metadata": {},
     "output_type": "display_data"
    }
   ],
   "source": [
    "color = sns.color_palette()\n",
    "# 数据print精度\n",
    "pd.set_option('precision', 3)\n",
    "# 显示完整的列\n",
    "pd.set_option('display.max_columns', None)\n",
    "# 显示完整的行\n",
    "pd.set_option('display.max_rows', None)\n",
    "# 设置图片大小\n",
    "plt.figure(figsize=(10, 6), dpi=200)\n",
    "# 设置字体\n",
    "my_font = font_manager.FontProperties(fname=\"苹方字体.ttf\")"
   ]
  },
  {
   "cell_type": "code",
   "execution_count": 3,
   "metadata": {},
   "outputs": [],
   "source": [
    "dfr['total acidity'] = dfr['fixed acidity'] + dfr['volatile acidity']\n",
    "dfw['total acidity'] = dfw['fixed acidity'] + dfw['volatile acidity']\n",
    "# 移动dfr总酸到列首\n",
    "r = dfr.columns.tolist()\n",
    "r.insert(0, r.pop())\n",
    "dfr = dfr.reindex(columns=r)\n",
    "# 移动dfw总酸到列首\n",
    "r = dfw.columns.tolist()\n",
    "r.insert(0, r.pop())\n",
    "dfw = dfw.reindex(columns=r)"
   ]
  },
  {
   "cell_type": "code",
   "execution_count": null,
   "metadata": {},
   "outputs": [],
   "source": []
  }
 ],
 "metadata": {
  "kernelspec": {
   "display_name": "Python 3",
   "language": "python",
   "name": "python3"
  },
  "language_info": {
   "codemirror_mode": {
    "name": "ipython",
    "version": 3
   },
   "file_extension": ".py",
   "mimetype": "text/x-python",
   "name": "python",
   "nbconvert_exporter": "python",
   "pygments_lexer": "ipython3",
   "version": "3.7.1"
  }
 },
 "nbformat": 4,
 "nbformat_minor": 2
}
